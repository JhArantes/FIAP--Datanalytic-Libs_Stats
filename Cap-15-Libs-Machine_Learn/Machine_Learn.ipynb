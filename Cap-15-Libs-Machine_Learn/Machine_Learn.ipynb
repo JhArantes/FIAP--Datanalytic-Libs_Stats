{
 "cells": [
  {
   "cell_type": "markdown",
   "id": "d1443fd3",
   "metadata": {},
   "source": [
    "## Importando Bibliotecas"
   ]
  },
  {
   "cell_type": "code",
   "execution_count": 2,
   "id": "d4700b1d",
   "metadata": {},
   "outputs": [],
   "source": [
    "# módulos\n",
    "import numpy as np\n",
    "import pandas as pd\n"
   ]
  },
  {
   "cell_type": "code",
   "execution_count": 8,
   "id": "47e40d81",
   "metadata": {},
   "outputs": [
    {
     "data": {
      "text/html": [
       "<div>\n",
       "<style scoped>\n",
       "    .dataframe tbody tr th:only-of-type {\n",
       "        vertical-align: middle;\n",
       "    }\n",
       "\n",
       "    .dataframe tbody tr th {\n",
       "        vertical-align: top;\n",
       "    }\n",
       "\n",
       "    .dataframe thead th {\n",
       "        text-align: right;\n",
       "    }\n",
       "</style>\n",
       "<table border=\"1\" class=\"dataframe\">\n",
       "  <thead>\n",
       "    <tr style=\"text-align: right;\">\n",
       "      <th></th>\n",
       "      <th>pais</th>\n",
       "      <th>ano</th>\n",
       "      <th>idh</th>\n",
       "      <th>corrupcao_indice</th>\n",
       "      <th>competitividade_indice</th>\n",
       "      <th>globalizacao_indice</th>\n",
       "      <th>pib</th>\n",
       "      <th>populacao</th>\n",
       "    </tr>\n",
       "  </thead>\n",
       "  <tbody>\n",
       "    <tr>\n",
       "      <th>0</th>\n",
       "      <td>África do Sul</td>\n",
       "      <td>1997</td>\n",
       "      <td>0.6328</td>\n",
       "      <td>56</td>\n",
       "      <td>44.54</td>\n",
       "      <td>52.60298</td>\n",
       "      <td>148814151.0</td>\n",
       "      <td>43353.632</td>\n",
       "    </tr>\n",
       "    <tr>\n",
       "      <th>1</th>\n",
       "      <td>África do Sul</td>\n",
       "      <td>1998</td>\n",
       "      <td>0.6272</td>\n",
       "      <td>57</td>\n",
       "      <td>31.11</td>\n",
       "      <td>54.51911</td>\n",
       "      <td>134295557.0</td>\n",
       "      <td>43961.924</td>\n",
       "    </tr>\n",
       "    <tr>\n",
       "      <th>2</th>\n",
       "      <td>África do Sul</td>\n",
       "      <td>1999</td>\n",
       "      <td>0.6216</td>\n",
       "      <td>50</td>\n",
       "      <td>43.90</td>\n",
       "      <td>61.04379</td>\n",
       "      <td>133183581.0</td>\n",
       "      <td>44526.272</td>\n",
       "    </tr>\n",
       "    <tr>\n",
       "      <th>3</th>\n",
       "      <td>África do Sul</td>\n",
       "      <td>2000</td>\n",
       "      <td>0.6160</td>\n",
       "      <td>52</td>\n",
       "      <td>51.52</td>\n",
       "      <td>62.47182</td>\n",
       "      <td>132877648.0</td>\n",
       "      <td>45064.098</td>\n",
       "    </tr>\n",
       "    <tr>\n",
       "      <th>4</th>\n",
       "      <td>África do Sul</td>\n",
       "      <td>2001</td>\n",
       "      <td>0.6126</td>\n",
       "      <td>50</td>\n",
       "      <td>45.12</td>\n",
       "      <td>62.04144</td>\n",
       "      <td>118478979.0</td>\n",
       "      <td>45576.215</td>\n",
       "    </tr>\n",
       "  </tbody>\n",
       "</table>\n",
       "</div>"
      ],
      "text/plain": [
       "            pais   ano     idh  corrupcao_indice  competitividade_indice  \\\n",
       "0  África do Sul  1997  0.6328                56                   44.54   \n",
       "1  África do Sul  1998  0.6272                57                   31.11   \n",
       "2  África do Sul  1999  0.6216                50                   43.90   \n",
       "3  África do Sul  2000  0.6160                52                   51.52   \n",
       "4  África do Sul  2001  0.6126                50                   45.12   \n",
       "\n",
       "   globalizacao_indice          pib  populacao  \n",
       "0             52.60298  148814151.0  43353.632  \n",
       "1             54.51911  134295557.0  43961.924  \n",
       "2             61.04379  133183581.0  44526.272  \n",
       "3             62.47182  132877648.0  45064.098  \n",
       "4             62.04144  118478979.0  45576.215  "
      ]
     },
     "execution_count": 8,
     "metadata": {},
     "output_type": "execute_result"
    }
   ],
   "source": [
    "# dados\n",
    "df_dados_paises = pd.read_csv('../Cap-15-Libs-Machine_Learn/Cap 15 - dados_1997_2011_paises_csv.csv', \n",
    "                              sep = ';', \n",
    "                              encoding='latin1', \n",
    "                              decimal=',')\n",
    "\n",
    "df_dados_paises.head()"
   ]
  },
  {
   "cell_type": "markdown",
   "id": "cec7d5b2",
   "metadata": {},
   "source": [
    "## Exemplo Estatística Descritiva"
   ]
  },
  {
   "cell_type": "code",
   "execution_count": 9,
   "id": "b368c93c",
   "metadata": {},
   "outputs": [
    {
     "data": {
      "text/html": [
       "<div>\n",
       "<style scoped>\n",
       "    .dataframe tbody tr th:only-of-type {\n",
       "        vertical-align: middle;\n",
       "    }\n",
       "\n",
       "    .dataframe tbody tr th {\n",
       "        vertical-align: top;\n",
       "    }\n",
       "\n",
       "    .dataframe thead th {\n",
       "        text-align: right;\n",
       "    }\n",
       "</style>\n",
       "<table border=\"1\" class=\"dataframe\">\n",
       "  <thead>\n",
       "    <tr style=\"text-align: right;\">\n",
       "      <th></th>\n",
       "      <th>min_idh</th>\n",
       "      <th>max_idh</th>\n",
       "      <th>media_idh</th>\n",
       "      <th>mediana_idh</th>\n",
       "      <th>desvio_padrao_idh</th>\n",
       "    </tr>\n",
       "    <tr>\n",
       "      <th>pais</th>\n",
       "      <th></th>\n",
       "      <th></th>\n",
       "      <th></th>\n",
       "      <th></th>\n",
       "      <th></th>\n",
       "    </tr>\n",
       "  </thead>\n",
       "  <tbody>\n",
       "    <tr>\n",
       "      <th>Alemanha</th>\n",
       "      <td>0.8466</td>\n",
       "      <td>0.9050</td>\n",
       "      <td>0.882880</td>\n",
       "      <td>0.8888</td>\n",
       "      <td>0.020187</td>\n",
       "    </tr>\n",
       "    <tr>\n",
       "      <th>Austrália</th>\n",
       "      <td>0.8958</td>\n",
       "      <td>0.9290</td>\n",
       "      <td>0.914507</td>\n",
       "      <td>0.9156</td>\n",
       "      <td>0.010485</td>\n",
       "    </tr>\n",
       "    <tr>\n",
       "      <th>Brasil</th>\n",
       "      <td>0.6464</td>\n",
       "      <td>0.7180</td>\n",
       "      <td>0.684653</td>\n",
       "      <td>0.6866</td>\n",
       "      <td>0.022727</td>\n",
       "    </tr>\n",
       "    <tr>\n",
       "      <th>Bélgica</th>\n",
       "      <td>0.8628</td>\n",
       "      <td>0.8860</td>\n",
       "      <td>0.876107</td>\n",
       "      <td>0.8754</td>\n",
       "      <td>0.006401</td>\n",
       "    </tr>\n",
       "    <tr>\n",
       "      <th>Canadá</th>\n",
       "      <td>0.8736</td>\n",
       "      <td>0.9080</td>\n",
       "      <td>0.890480</td>\n",
       "      <td>0.8894</td>\n",
       "      <td>0.011899</td>\n",
       "    </tr>\n",
       "    <tr>\n",
       "      <th>China</th>\n",
       "      <td>0.5598</td>\n",
       "      <td>0.6870</td>\n",
       "      <td>0.625240</td>\n",
       "      <td>0.6240</td>\n",
       "      <td>0.041928</td>\n",
       "    </tr>\n",
       "    <tr>\n",
       "      <th>Cingapura</th>\n",
       "      <td>0.7404</td>\n",
       "      <td>0.8660</td>\n",
       "      <td>0.821587</td>\n",
       "      <td>0.8282</td>\n",
       "      <td>0.037984</td>\n",
       "    </tr>\n",
       "    <tr>\n",
       "      <th>Coréia</th>\n",
       "      <td>0.8078</td>\n",
       "      <td>0.8970</td>\n",
       "      <td>0.856907</td>\n",
       "      <td>0.8588</td>\n",
       "      <td>0.029773</td>\n",
       "    </tr>\n",
       "    <tr>\n",
       "      <th>Espanha</th>\n",
       "      <td>0.8162</td>\n",
       "      <td>0.8780</td>\n",
       "      <td>0.852427</td>\n",
       "      <td>0.8534</td>\n",
       "      <td>0.019299</td>\n",
       "    </tr>\n",
       "    <tr>\n",
       "      <th>Estados Unidos</th>\n",
       "      <td>0.8886</td>\n",
       "      <td>0.9130</td>\n",
       "      <td>0.900947</td>\n",
       "      <td>0.9010</td>\n",
       "      <td>0.006558</td>\n",
       "    </tr>\n",
       "    <tr>\n",
       "      <th>França</th>\n",
       "      <td>0.8298</td>\n",
       "      <td>0.8840</td>\n",
       "      <td>0.861773</td>\n",
       "      <td>0.8644</td>\n",
       "      <td>0.018103</td>\n",
       "    </tr>\n",
       "    <tr>\n",
       "      <th>Holanda</th>\n",
       "      <td>0.8724</td>\n",
       "      <td>0.9100</td>\n",
       "      <td>0.891320</td>\n",
       "      <td>0.8884</td>\n",
       "      <td>0.012341</td>\n",
       "    </tr>\n",
       "    <tr>\n",
       "      <th>Itália</th>\n",
       "      <td>0.8070</td>\n",
       "      <td>0.8740</td>\n",
       "      <td>0.848000</td>\n",
       "      <td>0.8538</td>\n",
       "      <td>0.023729</td>\n",
       "    </tr>\n",
       "    <tr>\n",
       "      <th>Japão</th>\n",
       "      <td>0.8572</td>\n",
       "      <td>0.9010</td>\n",
       "      <td>0.881360</td>\n",
       "      <td>0.8824</td>\n",
       "      <td>0.014602</td>\n",
       "    </tr>\n",
       "    <tr>\n",
       "      <th>México</th>\n",
       "      <td>0.6916</td>\n",
       "      <td>0.7700</td>\n",
       "      <td>0.736080</td>\n",
       "      <td>0.7364</td>\n",
       "      <td>0.024646</td>\n",
       "    </tr>\n",
       "    <tr>\n",
       "      <th>Reino Unido</th>\n",
       "      <td>0.8228</td>\n",
       "      <td>0.8630</td>\n",
       "      <td>0.846440</td>\n",
       "      <td>0.8506</td>\n",
       "      <td>0.013745</td>\n",
       "    </tr>\n",
       "    <tr>\n",
       "      <th>Rússia</th>\n",
       "      <td>0.6814</td>\n",
       "      <td>0.7550</td>\n",
       "      <td>0.718520</td>\n",
       "      <td>0.7182</td>\n",
       "      <td>0.026420</td>\n",
       "    </tr>\n",
       "    <tr>\n",
       "      <th>África do Sul</th>\n",
       "      <td>0.5990</td>\n",
       "      <td>0.6328</td>\n",
       "      <td>0.612240</td>\n",
       "      <td>0.6100</td>\n",
       "      <td>0.009790</td>\n",
       "    </tr>\n",
       "    <tr>\n",
       "      <th>Índia</th>\n",
       "      <td>0.4466</td>\n",
       "      <td>0.5470</td>\n",
       "      <td>0.495680</td>\n",
       "      <td>0.4954</td>\n",
       "      <td>0.034417</td>\n",
       "    </tr>\n",
       "  </tbody>\n",
       "</table>\n",
       "</div>"
      ],
      "text/plain": [
       "                min_idh  max_idh  media_idh  mediana_idh  desvio_padrao_idh\n",
       "pais                                                                       \n",
       "Alemanha         0.8466   0.9050   0.882880       0.8888           0.020187\n",
       "Austrália        0.8958   0.9290   0.914507       0.9156           0.010485\n",
       "Brasil           0.6464   0.7180   0.684653       0.6866           0.022727\n",
       "Bélgica          0.8628   0.8860   0.876107       0.8754           0.006401\n",
       "Canadá           0.8736   0.9080   0.890480       0.8894           0.011899\n",
       "China            0.5598   0.6870   0.625240       0.6240           0.041928\n",
       "Cingapura        0.7404   0.8660   0.821587       0.8282           0.037984\n",
       "Coréia           0.8078   0.8970   0.856907       0.8588           0.029773\n",
       "Espanha          0.8162   0.8780   0.852427       0.8534           0.019299\n",
       "Estados Unidos   0.8886   0.9130   0.900947       0.9010           0.006558\n",
       "França           0.8298   0.8840   0.861773       0.8644           0.018103\n",
       "Holanda          0.8724   0.9100   0.891320       0.8884           0.012341\n",
       "Itália           0.8070   0.8740   0.848000       0.8538           0.023729\n",
       "Japão            0.8572   0.9010   0.881360       0.8824           0.014602\n",
       "México           0.6916   0.7700   0.736080       0.7364           0.024646\n",
       "Reino Unido      0.8228   0.8630   0.846440       0.8506           0.013745\n",
       "Rússia           0.6814   0.7550   0.718520       0.7182           0.026420\n",
       "África do Sul    0.5990   0.6328   0.612240       0.6100           0.009790\n",
       "Índia            0.4466   0.5470   0.495680       0.4954           0.034417"
      ]
     },
     "execution_count": 9,
     "metadata": {},
     "output_type": "execute_result"
    }
   ],
   "source": [
    "df_dados_paises.groupby('pais') \\\n",
    "    .agg(min_idh = pd.NamedAgg('idh', 'min'),\n",
    "         max_idh = pd.NamedAgg('idh', 'max'),\n",
    "         media_idh = pd.NamedAgg('idh', 'mean'),\n",
    "        mediana_idh = pd.NamedAgg('idh', 'median'),\n",
    "        desvio_padrao_idh = pd.NamedAgg('idh', 'std'))\n"
   ]
  },
  {
   "cell_type": "markdown",
   "id": "22b39ba5",
   "metadata": {},
   "source": [
    "## Probabilidades"
   ]
  },
  {
   "cell_type": "code",
   "execution_count": 11,
   "id": "682a572d",
   "metadata": {},
   "outputs": [],
   "source": [
    "# modulos\n",
    "from scipy.stats import binom, poisson, norm"
   ]
  },
  {
   "cell_type": "markdown",
   "id": "6c9f0c5e",
   "metadata": {},
   "source": [
    "- Distribuição Binomial\n",
    "\n",
    "n -> Quantidade de Tentativas\n",
    "\n",
    "p -> Probabilidade de sucesso\n"
   ]
  },
  {
   "cell_type": "code",
   "execution_count": null,
   "id": "e7ed80c2",
   "metadata": {},
   "outputs": [],
   "source": [
    "# Binomial \n",
    "n = 5 \n",
    "p = 0.8\n",
    "binom.pmf(k=1, n=n, p=p) "
   ]
  },
  {
   "cell_type": "markdown",
   "id": "33d1cd09",
   "metadata": {},
   "source": [
    "- Distribuição Poisson\n",
    "\n",
    "mu -> média esperada de eventos em um intervalo de tempo ou espaço.\n"
   ]
  },
  {
   "cell_type": "code",
   "execution_count": 12,
   "id": "519fcf7b",
   "metadata": {},
   "outputs": [
    {
     "data": {
      "text/plain": [
       "np.float64(0.2706705664732254)"
      ]
     },
     "execution_count": 12,
     "metadata": {},
     "output_type": "execute_result"
    }
   ],
   "source": [
    "mu = 2\n",
    "poisson.pmf(k=1, mu=mu)"
   ]
  },
  {
   "cell_type": "markdown",
   "id": "8ef46879",
   "metadata": {},
   "source": [
    "- Distribuição Normal"
   ]
  },
  {
   "cell_type": "code",
   "execution_count": 13,
   "id": "0671a857",
   "metadata": {},
   "outputs": [
    {
     "data": {
      "text/plain": [
       "np.float64(0.04839414490382867)"
      ]
     },
     "execution_count": 13,
     "metadata": {},
     "output_type": "execute_result"
    }
   ],
   "source": [
    "media = 30 \n",
    "desvio_padrao = 5\n",
    "norm.pdf(x=25, loc=media, scale = desvio_padrao)"
   ]
  },
  {
   "cell_type": "markdown",
   "id": "56bb4145",
   "metadata": {},
   "source": [
    "## Amostragem"
   ]
  },
  {
   "cell_type": "code",
   "execution_count": 15,
   "id": "83991265",
   "metadata": {},
   "outputs": [
    {
     "data": {
      "text/plain": [
       "(285, 8)"
      ]
     },
     "execution_count": 15,
     "metadata": {},
     "output_type": "execute_result"
    }
   ],
   "source": [
    "df_dados_paises.shape"
   ]
  },
  {
   "cell_type": "code",
   "execution_count": 16,
   "id": "289c5d3a",
   "metadata": {},
   "outputs": [
    {
     "data": {
      "text/plain": [
       "(50, 8)"
      ]
     },
     "execution_count": 16,
     "metadata": {},
     "output_type": "execute_result"
    }
   ],
   "source": [
    "df_amostra = df_dados_paises.sample(n=50)\n",
    "df_amostra.shape"
   ]
  },
  {
   "cell_type": "markdown",
   "id": "a3846e84",
   "metadata": {},
   "source": [
    "## Teste de Hipótese"
   ]
  },
  {
   "cell_type": "code",
   "execution_count": 18,
   "id": "3cb7f975",
   "metadata": {},
   "outputs": [],
   "source": [
    "from scipy import stats as st"
   ]
  },
  {
   "cell_type": "code",
   "execution_count": 19,
   "id": "ec101cde",
   "metadata": {},
   "outputs": [],
   "source": [
    "dados_brasil = df_dados_paises[df_dados_paises['pais'] == 'Brasil']"
   ]
  },
  {
   "cell_type": "code",
   "execution_count": 20,
   "id": "f66e7242",
   "metadata": {},
   "outputs": [
    {
     "data": {
      "text/plain": [
       "TtestResult(statistic=np.float64(31.467547309127106), pvalue=np.float64(2.1573861411421064e-14), df=np.int64(14))"
      ]
     },
     "execution_count": 20,
     "metadata": {},
     "output_type": "execute_result"
    }
   ],
   "source": [
    "st.ttest_1samp(a=dados_brasil['idh'], \n",
    "               popmean=0.5)"
   ]
  },
  {
   "cell_type": "markdown",
   "id": "882011fe",
   "metadata": {},
   "source": [
    "## Correlação"
   ]
  },
  {
   "cell_type": "code",
   "execution_count": 21,
   "id": "7cd04858",
   "metadata": {},
   "outputs": [
    {
     "data": {
      "text/html": [
       "<div>\n",
       "<style scoped>\n",
       "    .dataframe tbody tr th:only-of-type {\n",
       "        vertical-align: middle;\n",
       "    }\n",
       "\n",
       "    .dataframe tbody tr th {\n",
       "        vertical-align: top;\n",
       "    }\n",
       "\n",
       "    .dataframe thead th {\n",
       "        text-align: right;\n",
       "    }\n",
       "</style>\n",
       "<table border=\"1\" class=\"dataframe\">\n",
       "  <thead>\n",
       "    <tr style=\"text-align: right;\">\n",
       "      <th></th>\n",
       "      <th>idh</th>\n",
       "      <th>corrupcao_indice</th>\n",
       "      <th>competitividade_indice</th>\n",
       "      <th>globalizacao_indice</th>\n",
       "    </tr>\n",
       "  </thead>\n",
       "  <tbody>\n",
       "    <tr>\n",
       "      <th>idh</th>\n",
       "      <td>1.000000</td>\n",
       "      <td>0.742528</td>\n",
       "      <td>0.576736</td>\n",
       "      <td>0.807371</td>\n",
       "    </tr>\n",
       "    <tr>\n",
       "      <th>corrupcao_indice</th>\n",
       "      <td>0.742528</td>\n",
       "      <td>1.000000</td>\n",
       "      <td>0.753907</td>\n",
       "      <td>0.807345</td>\n",
       "    </tr>\n",
       "    <tr>\n",
       "      <th>competitividade_indice</th>\n",
       "      <td>0.576736</td>\n",
       "      <td>0.753907</td>\n",
       "      <td>1.000000</td>\n",
       "      <td>0.580710</td>\n",
       "    </tr>\n",
       "    <tr>\n",
       "      <th>globalizacao_indice</th>\n",
       "      <td>0.807371</td>\n",
       "      <td>0.807345</td>\n",
       "      <td>0.580710</td>\n",
       "      <td>1.000000</td>\n",
       "    </tr>\n",
       "  </tbody>\n",
       "</table>\n",
       "</div>"
      ],
      "text/plain": [
       "                             idh  corrupcao_indice  competitividade_indice  \\\n",
       "idh                     1.000000          0.742528                0.576736   \n",
       "corrupcao_indice        0.742528          1.000000                0.753907   \n",
       "competitividade_indice  0.576736          0.753907                1.000000   \n",
       "globalizacao_indice     0.807371          0.807345                0.580710   \n",
       "\n",
       "                        globalizacao_indice  \n",
       "idh                                0.807371  \n",
       "corrupcao_indice                   0.807345  \n",
       "competitividade_indice             0.580710  \n",
       "globalizacao_indice                1.000000  "
      ]
     },
     "execution_count": 21,
     "metadata": {},
     "output_type": "execute_result"
    }
   ],
   "source": [
    "cols = ['idh', 'corrupcao_indice', 'competitividade_indice', 'globalizacao_indice']\n",
    "df_dados_paises[cols].corr()"
   ]
  },
  {
   "cell_type": "markdown",
   "id": "28758e84",
   "metadata": {},
   "source": [
    "## Exemplo de Regressão "
   ]
  },
  {
   "cell_type": "code",
   "execution_count": 24,
   "id": "4d7e0d0d",
   "metadata": {},
   "outputs": [],
   "source": [
    "# Importando Modulo\n",
    "\n",
    "import statsmodels.formula.api as sm"
   ]
  },
  {
   "cell_type": "code",
   "execution_count": 26,
   "id": "b4fd0e4e",
   "metadata": {},
   "outputs": [],
   "source": [
    "modelo_regressao = sm.ols(formula='idh ~ corrupcao_indice + competitividade_indice + globalizacao_indice',\n",
    "                         data=df_dados_paises).fit()"
   ]
  },
  {
   "cell_type": "code",
   "execution_count": 27,
   "id": "9334b81a",
   "metadata": {},
   "outputs": [
    {
     "data": {
      "text/html": [
       "<table class=\"simpletable\">\n",
       "<caption>OLS Regression Results</caption>\n",
       "<tr>\n",
       "  <th>Dep. Variable:</th>           <td>idh</td>       <th>  R-squared:         </th> <td>   0.678</td>\n",
       "</tr>\n",
       "<tr>\n",
       "  <th>Model:</th>                   <td>OLS</td>       <th>  Adj. R-squared:    </th> <td>   0.675</td>\n",
       "</tr>\n",
       "<tr>\n",
       "  <th>Method:</th>             <td>Least Squares</td>  <th>  F-statistic:       </th> <td>   197.3</td>\n",
       "</tr>\n",
       "<tr>\n",
       "  <th>Date:</th>             <td>Wed, 13 Aug 2025</td> <th>  Prob (F-statistic):</th> <td>7.53e-69</td>\n",
       "</tr>\n",
       "<tr>\n",
       "  <th>Time:</th>                 <td>11:20:45</td>     <th>  Log-Likelihood:    </th> <td>  365.76</td>\n",
       "</tr>\n",
       "<tr>\n",
       "  <th>No. Observations:</th>      <td>   285</td>      <th>  AIC:               </th> <td>  -723.5</td>\n",
       "</tr>\n",
       "<tr>\n",
       "  <th>Df Residuals:</th>          <td>   281</td>      <th>  BIC:               </th> <td>  -708.9</td>\n",
       "</tr>\n",
       "<tr>\n",
       "  <th>Df Model:</th>              <td>     3</td>      <th>                     </th>     <td> </td>   \n",
       "</tr>\n",
       "<tr>\n",
       "  <th>Covariance Type:</th>      <td>nonrobust</td>    <th>                     </th>     <td> </td>   \n",
       "</tr>\n",
       "</table>\n",
       "<table class=\"simpletable\">\n",
       "<tr>\n",
       "             <td></td>               <th>coef</th>     <th>std err</th>      <th>t</th>      <th>P>|t|</th>  <th>[0.025</th>    <th>0.975]</th>  \n",
       "</tr>\n",
       "<tr>\n",
       "  <th>Intercept</th>              <td>    0.3039</td> <td>    0.029</td> <td>   10.493</td> <td> 0.000</td> <td>    0.247</td> <td>    0.361</td>\n",
       "</tr>\n",
       "<tr>\n",
       "  <th>corrupcao_indice</th>       <td>    0.0010</td> <td>    0.000</td> <td>    2.756</td> <td> 0.006</td> <td>    0.000</td> <td>    0.002</td>\n",
       "</tr>\n",
       "<tr>\n",
       "  <th>competitividade_indice</th> <td>    0.0006</td> <td>    0.000</td> <td>    1.516</td> <td> 0.131</td> <td>   -0.000</td> <td>    0.001</td>\n",
       "</tr>\n",
       "<tr>\n",
       "  <th>globalizacao_indice</th>    <td>    0.0053</td> <td>    0.001</td> <td>   10.492</td> <td> 0.000</td> <td>    0.004</td> <td>    0.006</td>\n",
       "</tr>\n",
       "</table>\n",
       "<table class=\"simpletable\">\n",
       "<tr>\n",
       "  <th>Omnibus:</th>       <td> 0.422</td> <th>  Durbin-Watson:     </th> <td>   0.151</td>\n",
       "</tr>\n",
       "<tr>\n",
       "  <th>Prob(Omnibus):</th> <td> 0.810</td> <th>  Jarque-Bera (JB):  </th> <td>   0.414</td>\n",
       "</tr>\n",
       "<tr>\n",
       "  <th>Skew:</th>          <td> 0.092</td> <th>  Prob(JB):          </th> <td>   0.813</td>\n",
       "</tr>\n",
       "<tr>\n",
       "  <th>Kurtosis:</th>      <td> 2.963</td> <th>  Cond. No.          </th> <td>    870.</td>\n",
       "</tr>\n",
       "</table><br/><br/>Notes:<br/>[1] Standard Errors assume that the covariance matrix of the errors is correctly specified."
      ],
      "text/latex": [
       "\\begin{center}\n",
       "\\begin{tabular}{lclc}\n",
       "\\toprule\n",
       "\\textbf{Dep. Variable:}          &       idh        & \\textbf{  R-squared:         } &     0.678   \\\\\n",
       "\\textbf{Model:}                  &       OLS        & \\textbf{  Adj. R-squared:    } &     0.675   \\\\\n",
       "\\textbf{Method:}                 &  Least Squares   & \\textbf{  F-statistic:       } &     197.3   \\\\\n",
       "\\textbf{Date:}                   & Wed, 13 Aug 2025 & \\textbf{  Prob (F-statistic):} &  7.53e-69   \\\\\n",
       "\\textbf{Time:}                   &     11:20:45     & \\textbf{  Log-Likelihood:    } &    365.76   \\\\\n",
       "\\textbf{No. Observations:}       &         285      & \\textbf{  AIC:               } &    -723.5   \\\\\n",
       "\\textbf{Df Residuals:}           &         281      & \\textbf{  BIC:               } &    -708.9   \\\\\n",
       "\\textbf{Df Model:}               &           3      & \\textbf{                     } &             \\\\\n",
       "\\textbf{Covariance Type:}        &    nonrobust     & \\textbf{                     } &             \\\\\n",
       "\\bottomrule\n",
       "\\end{tabular}\n",
       "\\begin{tabular}{lcccccc}\n",
       "                                 & \\textbf{coef} & \\textbf{std err} & \\textbf{t} & \\textbf{P$> |$t$|$} & \\textbf{[0.025} & \\textbf{0.975]}  \\\\\n",
       "\\midrule\n",
       "\\textbf{Intercept}               &       0.3039  &        0.029     &    10.493  &         0.000        &        0.247    &        0.361     \\\\\n",
       "\\textbf{corrupcao\\_indice}       &       0.0010  &        0.000     &     2.756  &         0.006        &        0.000    &        0.002     \\\\\n",
       "\\textbf{competitividade\\_indice} &       0.0006  &        0.000     &     1.516  &         0.131        &       -0.000    &        0.001     \\\\\n",
       "\\textbf{globalizacao\\_indice}    &       0.0053  &        0.001     &    10.492  &         0.000        &        0.004    &        0.006     \\\\\n",
       "\\bottomrule\n",
       "\\end{tabular}\n",
       "\\begin{tabular}{lclc}\n",
       "\\textbf{Omnibus:}       &  0.422 & \\textbf{  Durbin-Watson:     } &    0.151  \\\\\n",
       "\\textbf{Prob(Omnibus):} &  0.810 & \\textbf{  Jarque-Bera (JB):  } &    0.414  \\\\\n",
       "\\textbf{Skew:}          &  0.092 & \\textbf{  Prob(JB):          } &    0.813  \\\\\n",
       "\\textbf{Kurtosis:}      &  2.963 & \\textbf{  Cond. No.          } &     870.  \\\\\n",
       "\\bottomrule\n",
       "\\end{tabular}\n",
       "%\\caption{OLS Regression Results}\n",
       "\\end{center}\n",
       "\n",
       "Notes: \\newline\n",
       " [1] Standard Errors assume that the covariance matrix of the errors is correctly specified."
      ],
      "text/plain": [
       "<class 'statsmodels.iolib.summary.Summary'>\n",
       "\"\"\"\n",
       "                            OLS Regression Results                            \n",
       "==============================================================================\n",
       "Dep. Variable:                    idh   R-squared:                       0.678\n",
       "Model:                            OLS   Adj. R-squared:                  0.675\n",
       "Method:                 Least Squares   F-statistic:                     197.3\n",
       "Date:                Wed, 13 Aug 2025   Prob (F-statistic):           7.53e-69\n",
       "Time:                        11:20:45   Log-Likelihood:                 365.76\n",
       "No. Observations:                 285   AIC:                            -723.5\n",
       "Df Residuals:                     281   BIC:                            -708.9\n",
       "Df Model:                           3                                         \n",
       "Covariance Type:            nonrobust                                         \n",
       "==========================================================================================\n",
       "                             coef    std err          t      P>|t|      [0.025      0.975]\n",
       "------------------------------------------------------------------------------------------\n",
       "Intercept                  0.3039      0.029     10.493      0.000       0.247       0.361\n",
       "corrupcao_indice           0.0010      0.000      2.756      0.006       0.000       0.002\n",
       "competitividade_indice     0.0006      0.000      1.516      0.131      -0.000       0.001\n",
       "globalizacao_indice        0.0053      0.001     10.492      0.000       0.004       0.006\n",
       "==============================================================================\n",
       "Omnibus:                        0.422   Durbin-Watson:                   0.151\n",
       "Prob(Omnibus):                  0.810   Jarque-Bera (JB):                0.414\n",
       "Skew:                           0.092   Prob(JB):                        0.813\n",
       "Kurtosis:                       2.963   Cond. No.                         870.\n",
       "==============================================================================\n",
       "\n",
       "Notes:\n",
       "[1] Standard Errors assume that the covariance matrix of the errors is correctly specified.\n",
       "\"\"\""
      ]
     },
     "execution_count": 27,
     "metadata": {},
     "output_type": "execute_result"
    }
   ],
   "source": [
    "modelo_regressao.summary()"
   ]
  },
  {
   "cell_type": "markdown",
   "id": "e7b004f0",
   "metadata": {},
   "source": [
    "## KMeans"
   ]
  },
  {
   "cell_type": "code",
   "execution_count": 28,
   "id": "0a1e6c43",
   "metadata": {},
   "outputs": [
    {
     "ename": "ModuleNotFoundError",
     "evalue": "No module named 'sklearn'",
     "output_type": "error",
     "traceback": [
      "\u001b[31m---------------------------------------------------------------------------\u001b[39m",
      "\u001b[31mModuleNotFoundError\u001b[39m                       Traceback (most recent call last)",
      "\u001b[36mCell\u001b[39m\u001b[36m \u001b[39m\u001b[32mIn[28]\u001b[39m\u001b[32m, line 1\u001b[39m\n\u001b[32m----> \u001b[39m\u001b[32m1\u001b[39m \u001b[38;5;28;01mfrom\u001b[39;00m\u001b[38;5;250m \u001b[39m\u001b[34;01msklearn\u001b[39;00m\u001b[34;01m.\u001b[39;00m\u001b[34;01mcluster\u001b[39;00m\u001b[38;5;250m \u001b[39m\u001b[38;5;28;01mimport\u001b[39;00m kmeans\n",
      "\u001b[31mModuleNotFoundError\u001b[39m: No module named 'sklearn'"
     ]
    }
   ],
   "source": [
    "from sklearn.cluster import kmeans"
   ]
  },
  {
   "cell_type": "code",
   "execution_count": null,
   "id": "5b1ba26a",
   "metadata": {},
   "outputs": [],
   "source": [
    "dados_resumo = df_dados_paises.groupby('pais') \\\n",
    "    .agg(media_corrupcao = pd.NamedAgg('corrupcao_indice', 'mean'),\n",
    "            media_competitividade = pd.NamedAgg('competitividade_indice', 'mean'),\n",
    "            media_globalizacao = pd.NamedAgg('globalizacao_indice', 'mean')) \\\n",
    "    .reset_index()\n",
    "\n"
   ]
  },
  {
   "cell_type": "code",
   "execution_count": null,
   "id": "995ebefb",
   "metadata": {},
   "outputs": [],
   "source": [
    "kmeans = KMeans(init=\"random\", \n",
    "                n_clusters=3, \n",
    "                n_init=10, \n",
    "                max_iter=300, \n",
    "                random_state=42)"
   ]
  },
  {
   "cell_type": "code",
   "execution_count": null,
   "id": "b9d5a376",
   "metadata": {},
   "outputs": [],
   "source": [
    "kmeans.fit(dados_resumo[['media_corrupcao', 'media_competitividade', 'media_globalizacao']])"
   ]
  },
  {
   "cell_type": "code",
   "execution_count": null,
   "id": "761db1c6",
   "metadata": {},
   "outputs": [],
   "source": [
    "dados_resumo['cluster'] = kmeans.labels_"
   ]
  },
  {
   "cell_type": "code",
   "execution_count": 29,
   "id": "823a3dd6",
   "metadata": {},
   "outputs": [
    {
     "ename": "NameError",
     "evalue": "name 'dados_resumo' is not defined",
     "output_type": "error",
     "traceback": [
      "\u001b[31m---------------------------------------------------------------------------\u001b[39m",
      "\u001b[31mNameError\u001b[39m                                 Traceback (most recent call last)",
      "\u001b[36mCell\u001b[39m\u001b[36m \u001b[39m\u001b[32mIn[29]\u001b[39m\u001b[32m, line 1\u001b[39m\n\u001b[32m----> \u001b[39m\u001b[32m1\u001b[39m \u001b[43mdados_resumo\u001b[49m.head()\n",
      "\u001b[31mNameError\u001b[39m: name 'dados_resumo' is not defined"
     ]
    }
   ],
   "source": [
    "dados_resumo.head()"
   ]
  },
  {
   "cell_type": "markdown",
   "id": "a01d50cf",
   "metadata": {},
   "source": [
    "## Box-plot (detectar outliers - valores discrepantes)"
   ]
  },
  {
   "cell_type": "code",
   "execution_count": null,
   "id": "61b5b432",
   "metadata": {},
   "outputs": [],
   "source": [
    "# estatística descritiva\n",
    "dados_resumo = df_dados_paises.groupby('pais') \\\n",
    "    .agg(media_pib = pd.NamedAgg('pib', 'mean')) \\\n",
    "    .reset_index()"
   ]
  },
  {
   "cell_type": "code",
   "execution_count": null,
   "id": "d8f19f2e",
   "metadata": {},
   "outputs": [],
   "source": [
    "# boxplot \n",
    "dados_resumo[['media_pib']].boxplot()"
   ]
  }
 ],
 "metadata": {
  "kernelspec": {
   "display_name": "Python 3",
   "language": "python",
   "name": "python3"
  },
  "language_info": {
   "codemirror_mode": {
    "name": "ipython",
    "version": 3
   },
   "file_extension": ".py",
   "mimetype": "text/x-python",
   "name": "python",
   "nbconvert_exporter": "python",
   "pygments_lexer": "ipython3",
   "version": "3.13.5"
  }
 },
 "nbformat": 4,
 "nbformat_minor": 5
}
