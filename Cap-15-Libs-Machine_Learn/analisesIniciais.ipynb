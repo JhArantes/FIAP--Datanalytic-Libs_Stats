{
 "cells": [
  {
   "cell_type": "markdown",
   "id": "991d861c",
   "metadata": {},
   "source": [
    "# Analises Iniciais - Conhecendo as ferramentas"
   ]
  },
  {
   "cell_type": "markdown",
   "id": "9ed51023",
   "metadata": {},
   "source": [
    "## Modulos"
   ]
  },
  {
   "cell_type": "code",
   "execution_count": 2,
   "id": "c73e79e1",
   "metadata": {},
   "outputs": [],
   "source": [
    "import numpy as np\n",
    "import pandas as pd"
   ]
  },
  {
   "cell_type": "markdown",
   "id": "c498d5fe",
   "metadata": {},
   "source": [
    "## Carregando Dados"
   ]
  },
  {
   "cell_type": "code",
   "execution_count": 10,
   "id": "8f3aff70",
   "metadata": {},
   "outputs": [
    {
     "data": {
      "text/html": [
       "<div>\n",
       "<style scoped>\n",
       "    .dataframe tbody tr th:only-of-type {\n",
       "        vertical-align: middle;\n",
       "    }\n",
       "\n",
       "    .dataframe tbody tr th {\n",
       "        vertical-align: top;\n",
       "    }\n",
       "\n",
       "    .dataframe thead th {\n",
       "        text-align: right;\n",
       "    }\n",
       "</style>\n",
       "<table border=\"1\" class=\"dataframe\">\n",
       "  <thead>\n",
       "    <tr style=\"text-align: right;\">\n",
       "      <th></th>\n",
       "      <th>pais</th>\n",
       "      <th>ano</th>\n",
       "      <th>idh</th>\n",
       "      <th>corrupcao_indice</th>\n",
       "      <th>competitividade_indice</th>\n",
       "      <th>globalizacao_indice</th>\n",
       "      <th>pib</th>\n",
       "      <th>populacao</th>\n",
       "    </tr>\n",
       "  </thead>\n",
       "  <tbody>\n",
       "    <tr>\n",
       "      <th>0</th>\n",
       "      <td>África do Sul</td>\n",
       "      <td>1997</td>\n",
       "      <td>0.6328</td>\n",
       "      <td>56</td>\n",
       "      <td>44.54</td>\n",
       "      <td>52.60298</td>\n",
       "      <td>148814151.0</td>\n",
       "      <td>43353.632</td>\n",
       "    </tr>\n",
       "    <tr>\n",
       "      <th>1</th>\n",
       "      <td>África do Sul</td>\n",
       "      <td>1998</td>\n",
       "      <td>0.6272</td>\n",
       "      <td>57</td>\n",
       "      <td>31.11</td>\n",
       "      <td>54.51911</td>\n",
       "      <td>134295557.0</td>\n",
       "      <td>43961.924</td>\n",
       "    </tr>\n",
       "    <tr>\n",
       "      <th>2</th>\n",
       "      <td>África do Sul</td>\n",
       "      <td>1999</td>\n",
       "      <td>0.6216</td>\n",
       "      <td>50</td>\n",
       "      <td>43.90</td>\n",
       "      <td>61.04379</td>\n",
       "      <td>133183581.0</td>\n",
       "      <td>44526.272</td>\n",
       "    </tr>\n",
       "    <tr>\n",
       "      <th>3</th>\n",
       "      <td>África do Sul</td>\n",
       "      <td>2000</td>\n",
       "      <td>0.6160</td>\n",
       "      <td>52</td>\n",
       "      <td>51.52</td>\n",
       "      <td>62.47182</td>\n",
       "      <td>132877648.0</td>\n",
       "      <td>45064.098</td>\n",
       "    </tr>\n",
       "    <tr>\n",
       "      <th>4</th>\n",
       "      <td>África do Sul</td>\n",
       "      <td>2001</td>\n",
       "      <td>0.6126</td>\n",
       "      <td>50</td>\n",
       "      <td>45.12</td>\n",
       "      <td>62.04144</td>\n",
       "      <td>118478979.0</td>\n",
       "      <td>45576.215</td>\n",
       "    </tr>\n",
       "    <tr>\n",
       "      <th>5</th>\n",
       "      <td>África do Sul</td>\n",
       "      <td>2002</td>\n",
       "      <td>0.6092</td>\n",
       "      <td>50</td>\n",
       "      <td>40.97</td>\n",
       "      <td>62.15008</td>\n",
       "      <td>111100828.0</td>\n",
       "      <td>46076.953</td>\n",
       "    </tr>\n",
       "    <tr>\n",
       "      <th>6</th>\n",
       "      <td>África do Sul</td>\n",
       "      <td>2003</td>\n",
       "      <td>0.6058</td>\n",
       "      <td>48</td>\n",
       "      <td>47.67</td>\n",
       "      <td>61.81803</td>\n",
       "      <td>168219302.0</td>\n",
       "      <td>46566.626</td>\n",
       "    </tr>\n",
       "  </tbody>\n",
       "</table>\n",
       "</div>"
      ],
      "text/plain": [
       "            pais   ano     idh  corrupcao_indice  competitividade_indice  \\\n",
       "0  África do Sul  1997  0.6328                56                   44.54   \n",
       "1  África do Sul  1998  0.6272                57                   31.11   \n",
       "2  África do Sul  1999  0.6216                50                   43.90   \n",
       "3  África do Sul  2000  0.6160                52                   51.52   \n",
       "4  África do Sul  2001  0.6126                50                   45.12   \n",
       "5  África do Sul  2002  0.6092                50                   40.97   \n",
       "6  África do Sul  2003  0.6058                48                   47.67   \n",
       "\n",
       "   globalizacao_indice          pib  populacao  \n",
       "0             52.60298  148814151.0  43353.632  \n",
       "1             54.51911  134295557.0  43961.924  \n",
       "2             61.04379  133183581.0  44526.272  \n",
       "3             62.47182  132877648.0  45064.098  \n",
       "4             62.04144  118478979.0  45576.215  \n",
       "5             62.15008  111100828.0  46076.953  \n",
       "6             61.81803  168219302.0  46566.626  "
      ]
     },
     "execution_count": 10,
     "metadata": {},
     "output_type": "execute_result"
    }
   ],
   "source": [
    "# Dados\n",
    "\n",
    "df_dados_paises = pd.read_csv('../Cap-15-Libs-Machine_Learn/Cap 15 - dados_1997_2011_paises_csv.csv' ,\n",
    "                             sep=';',\n",
    "                             encoding='latin-1',\n",
    "                             decimal=',')\n",
    "\n",
    "df_dados_paises.head(7)"
   ]
  },
  {
   "cell_type": "code",
   "execution_count": null,
   "id": "503e19a0",
   "metadata": {},
   "outputs": [],
   "source": [
    "df_dados_paises.groupby('pais') "
   ]
  }
 ],
 "metadata": {
  "kernelspec": {
   "display_name": "Python 3",
   "language": "python",
   "name": "python3"
  },
  "language_info": {
   "codemirror_mode": {
    "name": "ipython",
    "version": 3
   },
   "file_extension": ".py",
   "mimetype": "text/x-python",
   "name": "python",
   "nbconvert_exporter": "python",
   "pygments_lexer": "ipython3",
   "version": "3.13.5"
  }
 },
 "nbformat": 4,
 "nbformat_minor": 5
}
